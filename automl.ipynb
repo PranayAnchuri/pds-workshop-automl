{
 "cells": [
  {
   "cell_type": "code",
   "execution_count": null,
   "id": "a7451cf3",
   "metadata": {
    "ExecuteTime": {
     "end_time": "2021-11-12T21:24:33.610751Z",
     "start_time": "2021-11-12T21:24:32.062862Z"
    },
    "slideshow": {
     "slide_type": "slide"
    }
   },
   "outputs": [],
   "source": [
    "import pandas as pd\n",
    "import autosklearn.classification\n",
    "from sklearn.feature_selection import chi2, f_classif, mutual_info_classif, SelectKBest\n",
    "from sklearn.preprocessing import (\n",
    "    StandardScaler,\n",
    "    RobustScaler,\n",
    "    MinMaxScaler,\n",
    "    MaxAbsScaler,\n",
    ")\n",
    "from matplotlib import pyplot as plt\n",
    "import numpy as np\n",
    "from sklearn.neural_network import MLPClassifier\n",
    "from sklearn.neighbors import KNeighborsClassifier\n",
    "from sklearn.svm import SVC\n",
    "from sklearn.gaussian_process import GaussianProcessClassifier\n",
    "from sklearn.gaussian_process.kernels import RBF\n",
    "from sklearn.tree import DecisionTreeClassifier\n",
    "from sklearn.ensemble import RandomForestClassifier, AdaBoostClassifier\n",
    "from itertools import product\n",
    "from sklearn.pipeline import Pipeline\n",
    "from sklearn.metrics import classification_report\n",
    "from sklearn.metrics import accuracy_score\n",
    "from autogluon.tabular import TabularDataset, TabularPredictor\n",
    "import time\n",
    "from IPython.display import display\n",
    "import warnings\n",
    "\n",
    "warnings.filterwarnings(\"ignore\")\n",
    "warnings.simplefilter(\"ignore\")"
   ]
  },
  {
   "cell_type": "code",
   "execution_count": null,
   "id": "abd3b715",
   "metadata": {
    "ExecuteTime": {
     "end_time": "2021-11-12T21:24:35.810210Z",
     "start_time": "2021-11-12T21:24:35.807813Z"
    },
    "slideshow": {
     "slide_type": "slide"
    }
   },
   "outputs": [],
   "source": [
    "# set random seed for replication\n",
    "seed = 42"
   ]
  },
  {
   "cell_type": "code",
   "execution_count": null,
   "id": "afec8633",
   "metadata": {
    "ExecuteTime": {
     "end_time": "2021-11-12T21:53:17.654412Z",
     "start_time": "2021-11-12T21:53:15.800551Z"
    },
    "slideshow": {
     "slide_type": "subslide"
    }
   },
   "outputs": [],
   "source": [
    "# load train and test data\n",
    "train = pd.read_csv(\"./fashion-mnist_train.csv\").sample(n=1000, random_state=seed)\n",
    "test = pd.read_csv(\"./fashion-mnist_test.csv\").sample(n=100, random_state=seed)\n",
    "label = \"label\"\n",
    "X_train, X_test, y_train, y_test = train.drop(columns=[label]), test.drop(columns=[label]), train[label], test[label]"
   ]
  },
  {
   "cell_type": "code",
   "execution_count": null,
   "id": "6c62819b",
   "metadata": {
    "ExecuteTime": {
     "end_time": "2021-11-12T21:53:20.152900Z",
     "start_time": "2021-11-12T21:53:20.149808Z"
    },
    "slideshow": {
     "slide_type": "subslide"
    }
   },
   "outputs": [],
   "source": [
    "print(X_train.shape, y_train.shape, X_test.shape, y_test.shape)"
   ]
  },
  {
   "cell_type": "code",
   "execution_count": null,
   "id": "dfaaf58d",
   "metadata": {
    "ExecuteTime": {
     "end_time": "2021-11-12T21:53:22.043605Z",
     "start_time": "2021-11-12T21:53:21.858194Z"
    },
    "slideshow": {
     "slide_type": "subslide"
    }
   },
   "outputs": [],
   "source": [
    "# visualize categories in the dataset\n",
    "target_names = ['T-shirt/top', 'Trouser', 'Pullover', 'Dress', 'Coat', 'Sandal', 'Shirt', 'Sneaker', 'Bag', 'Ankle boot']\n",
    "y_labels = y_train.apply(lambda x: target_names[x])\n",
    "samples = X_train.loc[[x[0] for x in y_labels.reset_index().groupby(\"label\").first().values]]\n",
    "#setup image\n",
    "plt.figure()\n",
    "#subplot(r,c) provide the no. of rows and columns\n",
    "f, axarr = plt.subplots(2,5) \n",
    "for i, (idx, row) in enumerate(samples.iterrows()):\n",
    "    pvals = np.array(row, dtype='float')\n",
    "    pixels = pvals.reshape((28, 28))\n",
    "    plt.subplot(2, 5, i+1)\n",
    "    fig = plt.imshow(pixels, cmap='gray')\n",
    "    fig.axes.get_xaxis().set_visible(False)\n",
    "    fig.axes.get_yaxis().set_visible(False)\n",
    "    print(y_labels.loc[idx], end=\", \")\n",
    "plt.axis('off')\n",
    "plt.show()"
   ]
  },
  {
   "cell_type": "markdown",
   "id": "820756a0",
   "metadata": {
    "slideshow": {
     "slide_type": "slide"
    }
   },
   "source": [
    "# Exhaustive search\n",
    "\n",
    "1. Define pipeline options\n",
    "2. Run all pipelines\n",
    "3. Return the best pipeline"
   ]
  },
  {
   "cell_type": "code",
   "execution_count": null,
   "id": "80399a1d",
   "metadata": {
    "ExecuteTime": {
     "end_time": "2021-11-12T03:13:57.073332Z",
     "start_time": "2021-11-12T03:13:57.067809Z"
    },
    "slideshow": {
     "slide_type": "subslide"
    }
   },
   "outputs": [],
   "source": [
    "# define pipelines\n",
    "def mi(X, y):\n",
    "    return mutual_info_classif(X, y, random_state=seed)\n",
    "preprocessing_options = [\n",
    "    StandardScaler(),\n",
    "    MinMaxScaler(),\n",
    "]\n",
    "feature_selection_options = [\n",
    "    SelectKBest(score_func=f_classif, k=50),\n",
    "    SelectKBest(score_func=mi, k=50),\n",
    "]\n",
    "model_options = [MLPClassifier(random_state=seed), AdaBoostClassifier(random_state=seed), DecisionTreeClassifier(random_state=seed), SVC(random_state=seed)]\n",
    "stages = [\"preprocessing\", \"feature selection\", \"models\"]\n",
    "\n",
    "\n",
    "def create_pipelines():\n",
    "    pipelines = [\n",
    "        Pipeline([_ for _ in zip(stages, pipeline)])\n",
    "        for pipeline in product(\n",
    "            preprocessing_options, feature_selection_options, model_options\n",
    "        )\n",
    "    ]\n",
    "    return pipelines"
   ]
  },
  {
   "cell_type": "code",
   "execution_count": null,
   "id": "b4605991",
   "metadata": {
    "ExecuteTime": {
     "end_time": "2021-11-12T03:15:14.673519Z",
     "start_time": "2021-11-12T03:13:59.707307Z"
    },
    "slideshow": {
     "slide_type": "subslide"
    }
   },
   "outputs": [],
   "source": [
    "# Execute pipelines\n",
    "results = []\n",
    "for pp in create_pipelines():\n",
    "    print(pp)\n",
    "    pp.fit(X_train, y_train)\n",
    "    predictions = pp.predict(X_test)\n",
    "    results.append(\n",
    "        dict(\n",
    "            [(key, str(val)) for key, val in pp.steps]\n",
    "            + [(\"score\", accuracy_score(y_test.tolist(), predictions))]\n",
    "        )\n",
    "    )\n",
    "    print(\"============================================================\")\n",
    "exhaustive_search_result_df = pd.DataFrame(results)\n",
    "display(exhaustive_search_result_df)"
   ]
  },
  {
   "cell_type": "code",
   "execution_count": null,
   "id": "1911b573",
   "metadata": {
    "slideshow": {
     "slide_type": "subslide"
    }
   },
   "outputs": [],
   "source": [
    "# pipeline with highest r2_score\n",
    "print(exhaustive_search_result_df.loc[exhaustive_search_result_df[\"score\"].idxmax()])"
   ]
  },
  {
   "cell_type": "markdown",
   "id": "c98dd3bf",
   "metadata": {
    "slideshow": {
     "slide_type": "subslide"
    }
   },
   "source": [
    "## Execute pipelines in parallel using joblib\n",
    "\n",
    "1. Executing pipelines is an embarassingly parallel job\n",
    "2. Pipelines can be executed independently on all available cores\n",
    "3. We use Python's joblib package for parallel execution"
   ]
  },
  {
   "cell_type": "markdown",
   "id": "c08a4986",
   "metadata": {
    "slideshow": {
     "slide_type": "subslide"
    }
   },
   "source": [
    "## Further optimizations\n",
    "\n",
    "Execution time can be further improved by \n",
    "1. Using multiple machines\n",
    "2. Pipelines share common subtasks. Results of these subtasks can be shared across cores and machines"
   ]
  },
  {
   "cell_type": "code",
   "execution_count": null,
   "id": "e3f6ff7d",
   "metadata": {
    "slideshow": {
     "slide_type": "subslide"
    }
   },
   "outputs": [],
   "source": [
    "from joblib import Parallel, delayed\n",
    "from tqdm import tqdm\n",
    "\n",
    "\n",
    "def workerfunc(args):\n",
    "    X_train, y_train, X_test, y_test, pp = args\n",
    "    pp.fit(X_train, y_train)\n",
    "    predictions = pp.predict(X_test)\n",
    "    return accuracy_score(y_test, predictions)\n",
    "\n",
    "\n",
    "with Parallel(n_jobs=-1) as parallel:\n",
    "    tasks = [[X_train, y_train, X_test, y_test, pp] for pp in create_pipelines()]\n",
    "    results_parallel = parallel(delayed(workerfunc)(args) for args in tqdm(tasks))\n",
    "    exhaustive_search_parallel_result_df = pd.DataFrame(\n",
    "        zip([x[-1] for x in tasks], results_parallel), columns=[\"pipeline\", \"score\"]\n",
    "    )\n",
    "    display(exhaustive_search_parallel_result_df)"
   ]
  },
  {
   "cell_type": "code",
   "execution_count": null,
   "id": "100187a4",
   "metadata": {
    "slideshow": {
     "slide_type": "subslide"
    }
   },
   "outputs": [],
   "source": [
    "# pipeline with best r2_score using parallel exhaustive search\n",
    "print(\n",
    "    exhaustive_search_parallel_result_df.loc[\n",
    "        exhaustive_search_parallel_result_df[\"score\"].idxmax()\n",
    "    ]\n",
    ")"
   ]
  },
  {
   "cell_type": "markdown",
   "id": "8694bb05",
   "metadata": {
    "slideshow": {
     "slide_type": "slide"
    }
   },
   "source": [
    "# Genetic programming\n",
    "1. TPOT package (https://epistasislab.github.io/tpot/)\n",
    "2. Initialized with number of generations, population size, maximum time"
   ]
  },
  {
   "cell_type": "code",
   "execution_count": null,
   "id": "7f9f1eac",
   "metadata": {
    "slideshow": {
     "slide_type": "subslide"
    }
   },
   "outputs": [],
   "source": [
    "# tpot genetic algorithms\n",
    "from tpot import TPOTClassifier\n",
    "\n",
    "tpot = TPOTClassifier(\n",
    "    generations=15,\n",
    "    population_size=10,\n",
    "    verbosity=2,\n",
    "    random_state=42,\n",
    "    max_time_mins=1,\n",
    "    n_jobs=-1,\n",
    ")\n",
    "tpot.fit(X_train, y_train)\n",
    "predictions = tpot.predict(X_test)\n",
    "display(accuracy_score(y_test.tolist(), predictions))"
   ]
  },
  {
   "cell_type": "markdown",
   "id": "b5a2d45f",
   "metadata": {
    "slideshow": {
     "slide_type": "slide"
    }
   },
   "source": [
    "# Bayesian optimization\n",
    "\n",
    "1. Uses same interface as scikit-learn https://automl.github.io/auto-sklearn/master/#"
   ]
  },
  {
   "cell_type": "code",
   "execution_count": null,
   "id": "a075fb69",
   "metadata": {
    "slideshow": {
     "slide_type": "subslide"
    }
   },
   "outputs": [],
   "source": [
    "# bayesian optimization\n",
    "import autosklearn.classification\n",
    "automl = autosklearn.classification.AutoSklearnClassifier(time_left_for_this_task=30, memory_limit=None, n_jobs=-1)\n",
    "automl.fit(X_train, y_train)\n",
    "predictions = automl.predict(X_test)"
   ]
  },
  {
   "cell_type": "code",
   "execution_count": null,
   "id": "d3103fef",
   "metadata": {
    "slideshow": {
     "slide_type": "subslide"
    }
   },
   "outputs": [],
   "source": [
    "# best r2_score using AutoSklearn\n",
    "print(\"accuracy score:\", accuracy_score(y_test.tolist(), predictions))\n",
    "print(automl.show_models())"
   ]
  },
  {
   "cell_type": "markdown",
   "id": "61080506",
   "metadata": {
    "slideshow": {
     "slide_type": "slide"
    }
   },
   "source": [
    "# AutoGluon (https://auto.gluon.ai/stable/index.html#)"
   ]
  },
  {
   "cell_type": "code",
   "execution_count": null,
   "id": "59ad13f0",
   "metadata": {
    "slideshow": {
     "slide_type": "subslide"
    }
   },
   "outputs": [],
   "source": [
    "save_path = 'autogluon-fashion-mnist'  # specifies folder to store trained models\n",
    "label = \"label\"\n",
    "time_limit = 60  # for quick demonstration only, you should set this to longest time you are willing to wait (in seconds)\n",
    "metric = 'accuracy'  # specify your evaluation metric here\n",
    "predictor = TabularPredictor(label=\"label\", path=save_path).fit(train,  time_limit=time_limit, presets='best_quality')"
   ]
  },
  {
   "cell_type": "code",
   "execution_count": null,
   "id": "76322086",
   "metadata": {
    "slideshow": {
     "slide_type": "subslide"
    }
   },
   "outputs": [],
   "source": [
    "y_test = test[label]  # values to predict\n",
    "test_data_nolab = test.drop(columns=[label])  # delete label column to prove we're not cheating\n",
    "test_data_nolab.head()\n",
    "y_pred = predictor.predict(test_data_nolab)\n",
    "print(\"Predictions:  \\n\", y_pred)\n",
    "perf = predictor.evaluate_predictions(y_true=y_test, y_pred=y_pred, auxiliary_metrics=True)"
   ]
  },
  {
   "cell_type": "code",
   "execution_count": null,
   "id": "6b3fa30e",
   "metadata": {
    "slideshow": {
     "slide_type": "subslide"
    }
   },
   "outputs": [],
   "source": [
    "predictor.leaderboard(test, silent=True)"
   ]
  },
  {
   "cell_type": "markdown",
   "id": "f14fe7d9",
   "metadata": {
    "slideshow": {
     "slide_type": "slide"
    }
   },
   "source": [
    "# Conclusions\n",
    "1. AutoML tools automate the search for optimal ML pipelines\n",
    "2. Tools differ in the way they explore the space of potential pipelines"
   ]
  }
 ],
 "metadata": {
  "celltoolbar": "Slideshow",
  "kernelspec": {
   "display_name": "Python [conda env:pds_test] *",
   "language": "python",
   "name": "conda-env-pds_test-py"
  },
  "language_info": {
   "codemirror_mode": {
    "name": "ipython",
    "version": 3
   },
   "file_extension": ".py",
   "mimetype": "text/x-python",
   "name": "python",
   "nbconvert_exporter": "python",
   "pygments_lexer": "ipython3",
   "version": "3.7.12"
  },
  "rise": {
   "enable_chalkboard": true,
   "header": "<h2>DataX</h2>",
   "scroll": true,
   "theme": "night"
  },
  "toc": {
   "base_numbering": 1,
   "nav_menu": {},
   "number_sections": true,
   "sideBar": true,
   "skip_h1_title": false,
   "title_cell": "Table of Contents",
   "title_sidebar": "Contents",
   "toc_cell": false,
   "toc_position": {
    "height": "calc(100% - 180px)",
    "left": "10px",
    "top": "150px",
    "width": "510.391px"
   },
   "toc_section_display": true,
   "toc_window_display": false
  }
 },
 "nbformat": 4,
 "nbformat_minor": 5
}
